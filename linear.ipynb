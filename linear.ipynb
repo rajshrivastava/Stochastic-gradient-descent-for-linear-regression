{
 "cells": [
  {
   "cell_type": "code",
   "execution_count": 42,
   "metadata": {},
   "outputs": [],
   "source": [
    "import pandas as pd\n",
    "import numpy as np\n",
    "from sklearn.model_selection import train_test_split\n",
    "from matplotlib.pyplot import plot"
   ]
  },
  {
   "cell_type": "code",
   "execution_count": 43,
   "metadata": {},
   "outputs": [],
   "source": [
    "class SGD:\n",
    "    def __init__(self, epochs, eta, regularization):\n",
    "        self.epochs = epochs\n",
    "        self.eta = eta\n",
    "        self.regularization = regularization\n",
    "        self.w = np.random.randn()\n",
    "        self.b = np.random.randn()\n",
    "\n",
    "    def mse(self, y_true, y_pred):\n",
    "            return np.mean(np.square(y_true - y_pred))\n",
    "        \n",
    "    def fit(self, X, Y): \n",
    "        n = len(X)\n",
    "        indexes = np.asarray([i for i in range(len(X))])\n",
    "        for _ in range(self.epochs):\n",
    "            np.random.shuffle(indexes)\n",
    "            w_gradient = 0\n",
    "            b_gradient = 0\n",
    "            for j in range(n):\n",
    "                i = indexes[j]\n",
    "                y_hat = self.w * X[i] + self.b\n",
    "                #print(prediction)                \n",
    "                w_gradient = (y_hat - self.w*X[i] - self.b)*(-X[i]) + self.regularization*self.w\n",
    "                b_gradient = (y_hat - self.w*X[i] - self.b) + self.regularization*self.w\n",
    "                        \n",
    "                self.w = self.w - self.eta*w_gradient\n",
    "                self.b = self.b - self.eta*b_gradient\n",
    "                        \n",
    "                \n",
    "    def predict(self, X):\n",
    "        y_pred=[]\n",
    "        for i in range(len(X)):\n",
    "            prediction = self.w * X[i] + self.b\n",
    "            y_pred.append(prediction)\n",
    "        return np.array(y_pred)\n"
   ]
  },
  {
   "cell_type": "code",
   "execution_count": 44,
   "metadata": {},
   "outputs": [],
   "source": [
    "def preprocessing():\n",
    "    data = pd.read_csv('data.csv')\n",
    "    X, Y = np.asarray(data.iloc[:,0]), np.asarray(data.iloc[:,1])\n",
    "    #X, Y = data.iloc[:,0], data.iloc[:,1]\n",
    "    \n",
    "    X_train, X_test, Y_train, Y_test = train_test_split(X, Y, test_size=0.3, random_state=42)\n",
    "    return X_train, Y_train, X_test, Y_test"
   ]
  },
  {
   "cell_type": "code",
   "execution_count": 45,
   "metadata": {},
   "outputs": [],
   "source": [
    "if __name__ == '__main__':    \n",
    "    #rand\n",
    "    np.random.seed(10)\n",
    "    x_train, y_train, x_test, y_test = preprocessing() \n",
    "    model = SGD(epochs=100, eta=0.001, regularization = 0.0001)\n",
    "    model.fit(x_train, y_train)"
   ]
  },
  {
   "cell_type": "code",
   "execution_count": 46,
   "metadata": {},
   "outputs": [
    {
     "name": "stdout",
     "output_type": "stream",
     "text": [
      "MSE = 95.62154159757947\n"
     ]
    }
   ],
   "source": [
    "y_pred = model.predict(x_test)\n",
    "mse = model.mse(y_test, y_pred)\n",
    "print('MSE =', mse)"
   ]
  },
  {
   "cell_type": "code",
   "execution_count": 47,
   "metadata": {},
   "outputs": [
    {
     "data": {
      "text/plain": [
       "[<matplotlib.lines.Line2D at 0x1a18576978>]"
      ]
     },
     "execution_count": 47,
     "metadata": {},
     "output_type": "execute_result"
    },
    {
     "data": {
      "image/png": "[encoded data removed]",
      "text/plain": [
       "<Figure size 432x288 with 1 Axes>"
      ]
     },
     "metadata": {
      "needs_background": "light"
     },
     "output_type": "display_data"
    }
   ],
   "source": [
    "plot(x_test, y_test, 'o')\n",
    "m, b = np.polyfit(x_test, y_pred, 1)\n",
    "plot(x_test, m*x_test + b)"
   ]
  },
  {
   "cell_type": "code",
   "execution_count": null,
   "metadata": {},
   "outputs": [],
   "source": []
  },
  {
   "cell_type": "code",
   "execution_count": null,
   "metadata": {},
   "outputs": [],
   "source": []
  },
  {
   "cell_type": "code",
   "execution_count": null,
   "metadata": {},
   "outputs": [],
   "source": []
  }
 ],
 "metadata": {
  "kernelspec": {
   "display_name": "Python 3",
   "language": "python",
   "name": "python3"
  },
  "language_info": {
   "codemirror_mode": {
    "name": "ipython",
    "version": 3
   },
   "file_extension": ".py",
   "mimetype": "text/x-python",
   "name": "python",
   "nbconvert_exporter": "python",
   "pygments_lexer": "ipython3",
   "version": "3.7.3"
  }
 },
 "nbformat": 4,
 "nbformat_minor": 2
}
